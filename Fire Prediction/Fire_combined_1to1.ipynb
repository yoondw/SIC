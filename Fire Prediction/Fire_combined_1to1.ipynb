{
 "cells": [
  {
   "cell_type": "code",
   "execution_count": 40,
   "id": "canadian-formula",
   "metadata": {},
   "outputs": [],
   "source": [
    "from sklearn.neighbors import KNeighborsClassifier\n",
    "from sklearn.model_selection import train_test_split\n",
    "\n",
    "import pandas as pd\n",
    "import numpy as np\n",
    "import matplotlib.pyplot as plt\n",
    "import seaborn as sns\n",
    "from tqdm import tqdm\n",
    "\n",
    "import statsmodels.formula.api as smf\n",
    "import statsmodels.api as sm\n",
    "\n",
    "from sklearn.datasets import make_classification\n",
    "from sklearn.linear_model import LogisticRegression\n",
    "from sklearn.metrics import roc_curve\n",
    "from sklearn.metrics import roc_auc_score\n",
    "from sklearn import metrics\n",
    "\n",
    "from sklearn.ensemble import RandomForestClassifier\n",
    "from sklearn.metrics import confusion_matrix\n",
    "from sklearn.metrics import accuracy_score\n",
    "\n",
    "pd.set_option(\"display.max_columns\", None)"
   ]
  },
  {
   "cell_type": "code",
   "execution_count": 41,
   "id": "assured-jordan",
   "metadata": {},
   "outputs": [],
   "source": [
    "fire_robust = pd.read_csv('./fire_robust_1to1.csv', encoding = 'cp949').drop('Unnamed: 0', axis  = 1)\n",
    "fire_minmax = pd.read_csv('./fire_minmax_1to1.csv', encoding = 'cp949').drop('Unnamed: 0', axis  = 1)\n",
    "fire_standard = pd.read_csv('./fire_standard_1to1.csv', encoding = 'cp949').drop('Unnamed: 0', axis  = 1)"
   ]
  },
  {
   "cell_type": "code",
   "execution_count": 42,
   "id": "disabled-greek",
   "metadata": {},
   "outputs": [
    {
     "data": {
      "text/html": [
       "<div>\n",
       "<style scoped>\n",
       "    .dataframe tbody tr th:only-of-type {\n",
       "        vertical-align: middle;\n",
       "    }\n",
       "\n",
       "    .dataframe tbody tr th {\n",
       "        vertical-align: top;\n",
       "    }\n",
       "\n",
       "    .dataframe thead th {\n",
       "        text-align: right;\n",
       "    }\n",
       "</style>\n",
       "<table border=\"1\" class=\"dataframe\">\n",
       "  <thead>\n",
       "    <tr style=\"text-align: right;\">\n",
       "      <th></th>\n",
       "      <th>fr_yn</th>\n",
       "      <th>bldng_cnt</th>\n",
       "      <th>bldng_ar</th>\n",
       "      <th>ttl_ar</th>\n",
       "      <th>lnd_ar</th>\n",
       "      <th>ttl_grnd_flr</th>\n",
       "      <th>ttl_dwn_flr</th>\n",
       "      <th>hm_cnt</th>\n",
       "      <th>fr_sttn_dstnc</th>\n",
       "      <th>bldng_ar_prc</th>\n",
       "      <th>fr_wthr_fclt_dstnc</th>\n",
       "      <th>fr_mn_cnt</th>\n",
       "      <th>cctv_dstnc</th>\n",
       "      <th>fr_wthr_fclt_in_100m</th>\n",
       "      <th>cctv_in_100m</th>\n",
       "      <th>tbc_rtl_str_dstnc</th>\n",
       "      <th>sft_emrgnc_bll_dstnc</th>\n",
       "      <th>ahsm_dstnc</th>\n",
       "      <th>no_tbc_zn_dstnc</th>\n",
       "      <th>bldng_cnt_in_50m</th>\n",
       "    </tr>\n",
       "  </thead>\n",
       "  <tbody>\n",
       "    <tr>\n",
       "      <th>0</th>\n",
       "      <td>0</td>\n",
       "      <td>0.0</td>\n",
       "      <td>-0.419604</td>\n",
       "      <td>-0.269063</td>\n",
       "      <td>0.154155</td>\n",
       "      <td>-0.5</td>\n",
       "      <td>0.0</td>\n",
       "      <td>0.092490</td>\n",
       "      <td>0.055556</td>\n",
       "      <td>-1.132487</td>\n",
       "      <td>0.138745</td>\n",
       "      <td>0.184211</td>\n",
       "      <td>0.313944</td>\n",
       "      <td>0.0</td>\n",
       "      <td>0.0</td>\n",
       "      <td>0.145234</td>\n",
       "      <td>-0.447236</td>\n",
       "      <td>-0.186408</td>\n",
       "      <td>1.200783</td>\n",
       "      <td>0.00</td>\n",
       "    </tr>\n",
       "    <tr>\n",
       "      <th>1</th>\n",
       "      <td>0</td>\n",
       "      <td>1.0</td>\n",
       "      <td>0.253727</td>\n",
       "      <td>-0.060409</td>\n",
       "      <td>-0.051385</td>\n",
       "      <td>-0.5</td>\n",
       "      <td>0.0</td>\n",
       "      <td>0.601895</td>\n",
       "      <td>-0.088283</td>\n",
       "      <td>0.929427</td>\n",
       "      <td>-0.072948</td>\n",
       "      <td>0.605263</td>\n",
       "      <td>-0.049402</td>\n",
       "      <td>0.0</td>\n",
       "      <td>0.0</td>\n",
       "      <td>-0.119884</td>\n",
       "      <td>-0.496768</td>\n",
       "      <td>1.001858</td>\n",
       "      <td>-0.226461</td>\n",
       "      <td>0.50</td>\n",
       "    </tr>\n",
       "    <tr>\n",
       "      <th>2</th>\n",
       "      <td>0</td>\n",
       "      <td>-0.5</td>\n",
       "      <td>-0.377678</td>\n",
       "      <td>-0.253742</td>\n",
       "      <td>0.183518</td>\n",
       "      <td>-0.5</td>\n",
       "      <td>0.0</td>\n",
       "      <td>-0.251809</td>\n",
       "      <td>0.586074</td>\n",
       "      <td>0.236813</td>\n",
       "      <td>-0.105131</td>\n",
       "      <td>-0.763158</td>\n",
       "      <td>-0.055777</td>\n",
       "      <td>1.0</td>\n",
       "      <td>0.0</td>\n",
       "      <td>1.400581</td>\n",
       "      <td>0.827166</td>\n",
       "      <td>0.605586</td>\n",
       "      <td>-0.201027</td>\n",
       "      <td>0.00</td>\n",
       "    </tr>\n",
       "    <tr>\n",
       "      <th>3</th>\n",
       "      <td>0</td>\n",
       "      <td>-0.5</td>\n",
       "      <td>-0.907523</td>\n",
       "      <td>-0.447367</td>\n",
       "      <td>-0.220221</td>\n",
       "      <td>-0.5</td>\n",
       "      <td>0.0</td>\n",
       "      <td>-0.202069</td>\n",
       "      <td>0.272869</td>\n",
       "      <td>0.356270</td>\n",
       "      <td>0.659396</td>\n",
       "      <td>-0.355263</td>\n",
       "      <td>0.111554</td>\n",
       "      <td>0.0</td>\n",
       "      <td>0.0</td>\n",
       "      <td>0.902561</td>\n",
       "      <td>-0.148257</td>\n",
       "      <td>-0.267127</td>\n",
       "      <td>-0.082661</td>\n",
       "      <td>0.25</td>\n",
       "    </tr>\n",
       "    <tr>\n",
       "      <th>4</th>\n",
       "      <td>0</td>\n",
       "      <td>0.5</td>\n",
       "      <td>-0.298852</td>\n",
       "      <td>-0.224936</td>\n",
       "      <td>-0.381717</td>\n",
       "      <td>-0.5</td>\n",
       "      <td>0.0</td>\n",
       "      <td>-0.325735</td>\n",
       "      <td>1.144084</td>\n",
       "      <td>-0.899348</td>\n",
       "      <td>1.736456</td>\n",
       "      <td>-0.723684</td>\n",
       "      <td>0.127490</td>\n",
       "      <td>0.0</td>\n",
       "      <td>0.0</td>\n",
       "      <td>2.016636</td>\n",
       "      <td>1.473168</td>\n",
       "      <td>-0.428235</td>\n",
       "      <td>0.016141</td>\n",
       "      <td>1.25</td>\n",
       "    </tr>\n",
       "    <tr>\n",
       "      <th>...</th>\n",
       "      <td>...</td>\n",
       "      <td>...</td>\n",
       "      <td>...</td>\n",
       "      <td>...</td>\n",
       "      <td>...</td>\n",
       "      <td>...</td>\n",
       "      <td>...</td>\n",
       "      <td>...</td>\n",
       "      <td>...</td>\n",
       "      <td>...</td>\n",
       "      <td>...</td>\n",
       "      <td>...</td>\n",
       "      <td>...</td>\n",
       "      <td>...</td>\n",
       "      <td>...</td>\n",
       "      <td>...</td>\n",
       "      <td>...</td>\n",
       "      <td>...</td>\n",
       "      <td>...</td>\n",
       "      <td>...</td>\n",
       "    </tr>\n",
       "    <tr>\n",
       "      <th>6023</th>\n",
       "      <td>1</td>\n",
       "      <td>-0.5</td>\n",
       "      <td>5.561890</td>\n",
       "      <td>15.004196</td>\n",
       "      <td>1.681267</td>\n",
       "      <td>4.0</td>\n",
       "      <td>1.0</td>\n",
       "      <td>1.832000</td>\n",
       "      <td>-0.014482</td>\n",
       "      <td>0.751524</td>\n",
       "      <td>-0.156624</td>\n",
       "      <td>0.486842</td>\n",
       "      <td>-0.286853</td>\n",
       "      <td>1.0</td>\n",
       "      <td>2.0</td>\n",
       "      <td>-0.298917</td>\n",
       "      <td>-0.525380</td>\n",
       "      <td>0.759646</td>\n",
       "      <td>-0.192223</td>\n",
       "      <td>0.00</td>\n",
       "    </tr>\n",
       "    <tr>\n",
       "      <th>6024</th>\n",
       "      <td>1</td>\n",
       "      <td>0.0</td>\n",
       "      <td>-0.266636</td>\n",
       "      <td>-0.213163</td>\n",
       "      <td>-0.461730</td>\n",
       "      <td>-0.5</td>\n",
       "      <td>0.0</td>\n",
       "      <td>-0.009063</td>\n",
       "      <td>0.256832</td>\n",
       "      <td>-0.668505</td>\n",
       "      <td>-0.028607</td>\n",
       "      <td>0.486842</td>\n",
       "      <td>-0.170518</td>\n",
       "      <td>0.0</td>\n",
       "      <td>1.0</td>\n",
       "      <td>0.394508</td>\n",
       "      <td>-0.459759</td>\n",
       "      <td>0.858480</td>\n",
       "      <td>0.234287</td>\n",
       "      <td>0.75</td>\n",
       "    </tr>\n",
       "    <tr>\n",
       "      <th>6025</th>\n",
       "      <td>1</td>\n",
       "      <td>-0.5</td>\n",
       "      <td>-0.534872</td>\n",
       "      <td>-0.311186</td>\n",
       "      <td>-0.599491</td>\n",
       "      <td>-0.5</td>\n",
       "      <td>0.0</td>\n",
       "      <td>-0.180503</td>\n",
       "      <td>-0.349779</td>\n",
       "      <td>-0.456021</td>\n",
       "      <td>0.242446</td>\n",
       "      <td>0.486842</td>\n",
       "      <td>0.690040</td>\n",
       "      <td>0.0</td>\n",
       "      <td>0.0</td>\n",
       "      <td>-0.068656</td>\n",
       "      <td>-0.358765</td>\n",
       "      <td>0.352747</td>\n",
       "      <td>1.116654</td>\n",
       "      <td>0.00</td>\n",
       "    </tr>\n",
       "    <tr>\n",
       "      <th>6026</th>\n",
       "      <td>1</td>\n",
       "      <td>-0.5</td>\n",
       "      <td>-0.683955</td>\n",
       "      <td>-0.365667</td>\n",
       "      <td>-0.668004</td>\n",
       "      <td>-0.5</td>\n",
       "      <td>0.0</td>\n",
       "      <td>1.888073</td>\n",
       "      <td>-0.397398</td>\n",
       "      <td>-0.332679</td>\n",
       "      <td>-0.049347</td>\n",
       "      <td>0.184211</td>\n",
       "      <td>-0.030279</td>\n",
       "      <td>0.0</td>\n",
       "      <td>0.0</td>\n",
       "      <td>-0.278585</td>\n",
       "      <td>-0.514589</td>\n",
       "      <td>-0.165485</td>\n",
       "      <td>0.021032</td>\n",
       "      <td>2.00</td>\n",
       "    </tr>\n",
       "    <tr>\n",
       "      <th>6027</th>\n",
       "      <td>1</td>\n",
       "      <td>-0.5</td>\n",
       "      <td>4.568001</td>\n",
       "      <td>10.572735</td>\n",
       "      <td>1.601253</td>\n",
       "      <td>2.5</td>\n",
       "      <td>0.0</td>\n",
       "      <td>1.996342</td>\n",
       "      <td>-0.424562</td>\n",
       "      <td>1.150272</td>\n",
       "      <td>-0.063651</td>\n",
       "      <td>0.486842</td>\n",
       "      <td>-0.186454</td>\n",
       "      <td>0.0</td>\n",
       "      <td>1.0</td>\n",
       "      <td>-0.283338</td>\n",
       "      <td>-0.529652</td>\n",
       "      <td>0.630694</td>\n",
       "      <td>-0.189288</td>\n",
       "      <td>3.50</td>\n",
       "    </tr>\n",
       "  </tbody>\n",
       "</table>\n",
       "<p>6028 rows × 20 columns</p>\n",
       "</div>"
      ],
      "text/plain": [
       "      fr_yn  bldng_cnt  bldng_ar     ttl_ar    lnd_ar  ttl_grnd_flr  \\\n",
       "0         0        0.0 -0.419604  -0.269063  0.154155          -0.5   \n",
       "1         0        1.0  0.253727  -0.060409 -0.051385          -0.5   \n",
       "2         0       -0.5 -0.377678  -0.253742  0.183518          -0.5   \n",
       "3         0       -0.5 -0.907523  -0.447367 -0.220221          -0.5   \n",
       "4         0        0.5 -0.298852  -0.224936 -0.381717          -0.5   \n",
       "...     ...        ...       ...        ...       ...           ...   \n",
       "6023      1       -0.5  5.561890  15.004196  1.681267           4.0   \n",
       "6024      1        0.0 -0.266636  -0.213163 -0.461730          -0.5   \n",
       "6025      1       -0.5 -0.534872  -0.311186 -0.599491          -0.5   \n",
       "6026      1       -0.5 -0.683955  -0.365667 -0.668004          -0.5   \n",
       "6027      1       -0.5  4.568001  10.572735  1.601253           2.5   \n",
       "\n",
       "      ttl_dwn_flr    hm_cnt  fr_sttn_dstnc  bldng_ar_prc  fr_wthr_fclt_dstnc  \\\n",
       "0             0.0  0.092490       0.055556     -1.132487            0.138745   \n",
       "1             0.0  0.601895      -0.088283      0.929427           -0.072948   \n",
       "2             0.0 -0.251809       0.586074      0.236813           -0.105131   \n",
       "3             0.0 -0.202069       0.272869      0.356270            0.659396   \n",
       "4             0.0 -0.325735       1.144084     -0.899348            1.736456   \n",
       "...           ...       ...            ...           ...                 ...   \n",
       "6023          1.0  1.832000      -0.014482      0.751524           -0.156624   \n",
       "6024          0.0 -0.009063       0.256832     -0.668505           -0.028607   \n",
       "6025          0.0 -0.180503      -0.349779     -0.456021            0.242446   \n",
       "6026          0.0  1.888073      -0.397398     -0.332679           -0.049347   \n",
       "6027          0.0  1.996342      -0.424562      1.150272           -0.063651   \n",
       "\n",
       "      fr_mn_cnt  cctv_dstnc  fr_wthr_fclt_in_100m  cctv_in_100m  \\\n",
       "0      0.184211    0.313944                   0.0           0.0   \n",
       "1      0.605263   -0.049402                   0.0           0.0   \n",
       "2     -0.763158   -0.055777                   1.0           0.0   \n",
       "3     -0.355263    0.111554                   0.0           0.0   \n",
       "4     -0.723684    0.127490                   0.0           0.0   \n",
       "...         ...         ...                   ...           ...   \n",
       "6023   0.486842   -0.286853                   1.0           2.0   \n",
       "6024   0.486842   -0.170518                   0.0           1.0   \n",
       "6025   0.486842    0.690040                   0.0           0.0   \n",
       "6026   0.184211   -0.030279                   0.0           0.0   \n",
       "6027   0.486842   -0.186454                   0.0           1.0   \n",
       "\n",
       "      tbc_rtl_str_dstnc  sft_emrgnc_bll_dstnc  ahsm_dstnc  no_tbc_zn_dstnc  \\\n",
       "0              0.145234             -0.447236   -0.186408         1.200783   \n",
       "1             -0.119884             -0.496768    1.001858        -0.226461   \n",
       "2              1.400581              0.827166    0.605586        -0.201027   \n",
       "3              0.902561             -0.148257   -0.267127        -0.082661   \n",
       "4              2.016636              1.473168   -0.428235         0.016141   \n",
       "...                 ...                   ...         ...              ...   \n",
       "6023          -0.298917             -0.525380    0.759646        -0.192223   \n",
       "6024           0.394508             -0.459759    0.858480         0.234287   \n",
       "6025          -0.068656             -0.358765    0.352747         1.116654   \n",
       "6026          -0.278585             -0.514589   -0.165485         0.021032   \n",
       "6027          -0.283338             -0.529652    0.630694        -0.189288   \n",
       "\n",
       "      bldng_cnt_in_50m  \n",
       "0                 0.00  \n",
       "1                 0.50  \n",
       "2                 0.00  \n",
       "3                 0.25  \n",
       "4                 1.25  \n",
       "...                ...  \n",
       "6023              0.00  \n",
       "6024              0.75  \n",
       "6025              0.00  \n",
       "6026              2.00  \n",
       "6027              3.50  \n",
       "\n",
       "[6028 rows x 20 columns]"
      ]
     },
     "execution_count": 42,
     "metadata": {},
     "output_type": "execute_result"
    }
   ],
   "source": [
    "fire_robust"
   ]
  },
  {
   "cell_type": "code",
   "execution_count": null,
   "id": "agricultural-pharmaceutical",
   "metadata": {},
   "outputs": [],
   "source": []
  },
  {
   "cell_type": "code",
   "execution_count": null,
   "id": "cutting-planner",
   "metadata": {},
   "outputs": [],
   "source": []
  },
  {
   "cell_type": "markdown",
   "id": "falling-father",
   "metadata": {},
   "source": [
    "## 1. Logistic regression"
   ]
  },
  {
   "cell_type": "markdown",
   "id": "infrared-cliff",
   "metadata": {},
   "source": [
    "### 1-1. Robust"
   ]
  },
  {
   "cell_type": "code",
   "execution_count": 43,
   "id": "cathedral-ozone",
   "metadata": {
    "scrolled": false
   },
   "outputs": [
    {
     "name": "stdout",
     "output_type": "stream",
     "text": [
      "                            OLS Regression Results                            \n",
      "==============================================================================\n",
      "Dep. Variable:                  fr_yn   R-squared:                       0.093\n",
      "Model:                            OLS   Adj. R-squared:                  0.092\n",
      "Method:                 Least Squares   F-statistic:                     88.49\n",
      "Date:                Mon, 05 Jul 2021   Prob (F-statistic):          3.76e-123\n",
      "Time:                        18:38:39   Log-Likelihood:                -4079.9\n",
      "No. Observations:                6028   AIC:                             8176.\n",
      "Df Residuals:                    6020   BIC:                             8229.\n",
      "Df Model:                           7                                         \n",
      "Covariance Type:            nonrobust                                         \n",
      "========================================================================================\n",
      "                           coef    std err          t      P>|t|      [0.025      0.975]\n",
      "----------------------------------------------------------------------------------------\n",
      "Intercept                0.5187      0.008     63.111      0.000       0.503       0.535\n",
      "ttl_grnd_flr             0.0042      0.001      5.126      0.000       0.003       0.006\n",
      "ttl_dwn_flr              0.0259      0.009      2.763      0.006       0.008       0.044\n",
      "bldng_ar_prc             0.0164      0.008      2.154      0.031       0.001       0.031\n",
      "fr_wthr_fclt_dstnc      -0.0767      0.004    -18.957      0.000      -0.085      -0.069\n",
      "cctv_in_100m             0.0159      0.005      3.528      0.000       0.007       0.025\n",
      "sft_emrgnc_bll_dstnc     0.0854      0.011      7.612      0.000       0.063       0.107\n",
      "ahsm_dstnc               0.0531      0.011      4.990      0.000       0.032       0.074\n",
      "==============================================================================\n",
      "Omnibus:                    24431.330   Durbin-Watson:                   0.174\n",
      "Prob(Omnibus):                  0.000   Jarque-Bera (JB):              797.935\n",
      "Skew:                          -0.064   Prob(JB):                    5.38e-174\n",
      "Kurtosis:                       1.222   Cond. No.                         22.9\n",
      "==============================================================================\n",
      "\n",
      "Notes:\n",
      "[1] Standard Errors assume that the covariance matrix of the errors is correctly specified.\n"
     ]
    }
   ],
   "source": [
    "res = smf.ols(formula = 'fr_yn ~ ttl_grnd_flr + ttl_dwn_flr + bldng_ar_prc + fr_wthr_fclt_dstnc + cctv_in_100m + sft_emrgnc_bll_dstnc + ahsm_dstnc', data = fire_robust).fit()\n",
    "print(res.summary())"
   ]
  },
  {
   "cell_type": "code",
   "execution_count": 44,
   "id": "exclusive-webster",
   "metadata": {},
   "outputs": [
    {
     "data": {
      "text/html": [
       "<div>\n",
       "<style scoped>\n",
       "    .dataframe tbody tr th:only-of-type {\n",
       "        vertical-align: middle;\n",
       "    }\n",
       "\n",
       "    .dataframe tbody tr th {\n",
       "        vertical-align: top;\n",
       "    }\n",
       "\n",
       "    .dataframe thead th {\n",
       "        text-align: right;\n",
       "    }\n",
       "</style>\n",
       "<table border=\"1\" class=\"dataframe\">\n",
       "  <thead>\n",
       "    <tr style=\"text-align: right;\">\n",
       "      <th></th>\n",
       "      <th>fr_yn</th>\n",
       "      <th>ttl_grnd_flr</th>\n",
       "      <th>ttl_dwn_flr</th>\n",
       "      <th>bldng_ar_prc</th>\n",
       "      <th>fr_wthr_fclt_dstnc</th>\n",
       "      <th>cctv_in_100m</th>\n",
       "      <th>sft_emrgnc_bll_dstnc</th>\n",
       "      <th>ahsm_dstnc</th>\n",
       "    </tr>\n",
       "  </thead>\n",
       "  <tbody>\n",
       "    <tr>\n",
       "      <th>0</th>\n",
       "      <td>0</td>\n",
       "      <td>-0.5</td>\n",
       "      <td>0.0</td>\n",
       "      <td>-1.132487</td>\n",
       "      <td>0.138745</td>\n",
       "      <td>0.0</td>\n",
       "      <td>-0.447236</td>\n",
       "      <td>-0.186408</td>\n",
       "    </tr>\n",
       "    <tr>\n",
       "      <th>1</th>\n",
       "      <td>0</td>\n",
       "      <td>-0.5</td>\n",
       "      <td>0.0</td>\n",
       "      <td>0.929427</td>\n",
       "      <td>-0.072948</td>\n",
       "      <td>0.0</td>\n",
       "      <td>-0.496768</td>\n",
       "      <td>1.001858</td>\n",
       "    </tr>\n",
       "    <tr>\n",
       "      <th>2</th>\n",
       "      <td>0</td>\n",
       "      <td>-0.5</td>\n",
       "      <td>0.0</td>\n",
       "      <td>0.236813</td>\n",
       "      <td>-0.105131</td>\n",
       "      <td>0.0</td>\n",
       "      <td>0.827166</td>\n",
       "      <td>0.605586</td>\n",
       "    </tr>\n",
       "    <tr>\n",
       "      <th>3</th>\n",
       "      <td>0</td>\n",
       "      <td>-0.5</td>\n",
       "      <td>0.0</td>\n",
       "      <td>0.356270</td>\n",
       "      <td>0.659396</td>\n",
       "      <td>0.0</td>\n",
       "      <td>-0.148257</td>\n",
       "      <td>-0.267127</td>\n",
       "    </tr>\n",
       "    <tr>\n",
       "      <th>4</th>\n",
       "      <td>0</td>\n",
       "      <td>-0.5</td>\n",
       "      <td>0.0</td>\n",
       "      <td>-0.899348</td>\n",
       "      <td>1.736456</td>\n",
       "      <td>0.0</td>\n",
       "      <td>1.473168</td>\n",
       "      <td>-0.428235</td>\n",
       "    </tr>\n",
       "    <tr>\n",
       "      <th>...</th>\n",
       "      <td>...</td>\n",
       "      <td>...</td>\n",
       "      <td>...</td>\n",
       "      <td>...</td>\n",
       "      <td>...</td>\n",
       "      <td>...</td>\n",
       "      <td>...</td>\n",
       "      <td>...</td>\n",
       "    </tr>\n",
       "    <tr>\n",
       "      <th>6023</th>\n",
       "      <td>1</td>\n",
       "      <td>4.0</td>\n",
       "      <td>1.0</td>\n",
       "      <td>0.751524</td>\n",
       "      <td>-0.156624</td>\n",
       "      <td>2.0</td>\n",
       "      <td>-0.525380</td>\n",
       "      <td>0.759646</td>\n",
       "    </tr>\n",
       "    <tr>\n",
       "      <th>6024</th>\n",
       "      <td>1</td>\n",
       "      <td>-0.5</td>\n",
       "      <td>0.0</td>\n",
       "      <td>-0.668505</td>\n",
       "      <td>-0.028607</td>\n",
       "      <td>1.0</td>\n",
       "      <td>-0.459759</td>\n",
       "      <td>0.858480</td>\n",
       "    </tr>\n",
       "    <tr>\n",
       "      <th>6025</th>\n",
       "      <td>1</td>\n",
       "      <td>-0.5</td>\n",
       "      <td>0.0</td>\n",
       "      <td>-0.456021</td>\n",
       "      <td>0.242446</td>\n",
       "      <td>0.0</td>\n",
       "      <td>-0.358765</td>\n",
       "      <td>0.352747</td>\n",
       "    </tr>\n",
       "    <tr>\n",
       "      <th>6026</th>\n",
       "      <td>1</td>\n",
       "      <td>-0.5</td>\n",
       "      <td>0.0</td>\n",
       "      <td>-0.332679</td>\n",
       "      <td>-0.049347</td>\n",
       "      <td>0.0</td>\n",
       "      <td>-0.514589</td>\n",
       "      <td>-0.165485</td>\n",
       "    </tr>\n",
       "    <tr>\n",
       "      <th>6027</th>\n",
       "      <td>1</td>\n",
       "      <td>2.5</td>\n",
       "      <td>0.0</td>\n",
       "      <td>1.150272</td>\n",
       "      <td>-0.063651</td>\n",
       "      <td>1.0</td>\n",
       "      <td>-0.529652</td>\n",
       "      <td>0.630694</td>\n",
       "    </tr>\n",
       "  </tbody>\n",
       "</table>\n",
       "<p>6028 rows × 8 columns</p>\n",
       "</div>"
      ],
      "text/plain": [
       "      fr_yn  ttl_grnd_flr  ttl_dwn_flr  bldng_ar_prc  fr_wthr_fclt_dstnc  \\\n",
       "0         0          -0.5          0.0     -1.132487            0.138745   \n",
       "1         0          -0.5          0.0      0.929427           -0.072948   \n",
       "2         0          -0.5          0.0      0.236813           -0.105131   \n",
       "3         0          -0.5          0.0      0.356270            0.659396   \n",
       "4         0          -0.5          0.0     -0.899348            1.736456   \n",
       "...     ...           ...          ...           ...                 ...   \n",
       "6023      1           4.0          1.0      0.751524           -0.156624   \n",
       "6024      1          -0.5          0.0     -0.668505           -0.028607   \n",
       "6025      1          -0.5          0.0     -0.456021            0.242446   \n",
       "6026      1          -0.5          0.0     -0.332679           -0.049347   \n",
       "6027      1           2.5          0.0      1.150272           -0.063651   \n",
       "\n",
       "      cctv_in_100m  sft_emrgnc_bll_dstnc  ahsm_dstnc  \n",
       "0              0.0             -0.447236   -0.186408  \n",
       "1              0.0             -0.496768    1.001858  \n",
       "2              0.0              0.827166    0.605586  \n",
       "3              0.0             -0.148257   -0.267127  \n",
       "4              0.0              1.473168   -0.428235  \n",
       "...            ...                   ...         ...  \n",
       "6023           2.0             -0.525380    0.759646  \n",
       "6024           1.0             -0.459759    0.858480  \n",
       "6025           0.0             -0.358765    0.352747  \n",
       "6026           0.0             -0.514589   -0.165485  \n",
       "6027           1.0             -0.529652    0.630694  \n",
       "\n",
       "[6028 rows x 8 columns]"
      ]
     },
     "execution_count": 44,
     "metadata": {},
     "output_type": "execute_result"
    }
   ],
   "source": [
    "fire_robust_selected = fire_robust.iloc[:, [0, 5, 6, 9, 10, 14, 16, 17]]\n",
    "fire_robust_selected"
   ]
  },
  {
   "cell_type": "code",
   "execution_count": 45,
   "id": "civic-brazil",
   "metadata": {},
   "outputs": [],
   "source": [
    "fire_robust_features = fire_robust_selected.iloc[:, 1:]\n",
    "fire_robust_labels = fire_robust_selected.iloc[:, 0]"
   ]
  },
  {
   "cell_type": "code",
   "execution_count": 46,
   "id": "technological-bonus",
   "metadata": {},
   "outputs": [
    {
     "name": "stdout",
     "output_type": "stream",
     "text": [
      "4822 1206 4822 1206\n"
     ]
    }
   ],
   "source": [
    "train_x, test_x, train_y, test_y = train_test_split(fire_robust_features, fire_robust_labels, test_size = 0.2, \n",
    "                                                    random_state = 100, stratify = fire_robust_labels)\n",
    "print(len(train_x), len(test_x), len(train_y), len(test_y))"
   ]
  },
  {
   "cell_type": "code",
   "execution_count": 47,
   "id": "subject-chase",
   "metadata": {},
   "outputs": [
    {
     "name": "stdout",
     "output_type": "stream",
     "text": [
      "                            OLS Regression Results                            \n",
      "==============================================================================\n",
      "Dep. Variable:                  fr_yn   R-squared:                       0.093\n",
      "Model:                            OLS   Adj. R-squared:                  0.092\n",
      "Method:                 Least Squares   F-statistic:                     88.49\n",
      "Date:                Mon, 05 Jul 2021   Prob (F-statistic):          3.76e-123\n",
      "Time:                        18:39:10   Log-Likelihood:                -4079.9\n",
      "No. Observations:                6028   AIC:                             8176.\n",
      "Df Residuals:                    6020   BIC:                             8229.\n",
      "Df Model:                           7                                         \n",
      "Covariance Type:            nonrobust                                         \n",
      "========================================================================================\n",
      "                           coef    std err          t      P>|t|      [0.025      0.975]\n",
      "----------------------------------------------------------------------------------------\n",
      "const                    0.5187      0.008     63.111      0.000       0.503       0.535\n",
      "ttl_grnd_flr             0.0042      0.001      5.126      0.000       0.003       0.006\n",
      "ttl_dwn_flr              0.0259      0.009      2.763      0.006       0.008       0.044\n",
      "bldng_ar_prc             0.0164      0.008      2.154      0.031       0.001       0.031\n",
      "fr_wthr_fclt_dstnc      -0.0767      0.004    -18.957      0.000      -0.085      -0.069\n",
      "cctv_in_100m             0.0159      0.005      3.528      0.000       0.007       0.025\n",
      "sft_emrgnc_bll_dstnc     0.0854      0.011      7.612      0.000       0.063       0.107\n",
      "ahsm_dstnc               0.0531      0.011      4.990      0.000       0.032       0.074\n",
      "==============================================================================\n",
      "Omnibus:                    24431.330   Durbin-Watson:                   0.174\n",
      "Prob(Omnibus):                  0.000   Jarque-Bera (JB):              797.935\n",
      "Skew:                          -0.064   Prob(JB):                    5.38e-174\n",
      "Kurtosis:                       1.222   Cond. No.                         22.9\n",
      "==============================================================================\n",
      "\n",
      "Notes:\n",
      "[1] Standard Errors assume that the covariance matrix of the errors is correctly specified.\n",
      "정확도 : 0.5970149253731343\n"
     ]
    },
    {
     "data": {
      "text/plain": [
       "Text(0.5, 15.0, 'Predicted label')"
      ]
     },
     "execution_count": 47,
     "metadata": {},
     "output_type": "execute_result"
    },
    {
     "data": {
      "image/png": "[encoded data removed]",
      "text/plain": [
       "<Figure size 432x288 with 2 Axes>"
      ]
     },
     "metadata": {
      "needs_background": "light"
     },
     "output_type": "display_data"
    }
   ],
   "source": [
    "log_reg = LogisticRegression()\n",
    "log_reg.fit(train_x, train_y)\n",
    " \n",
    "x2 = sm.add_constant(fire_robust_features)\n",
    "model = sm.OLS(fire_robust_labels, x2)\n",
    "result = model.fit()\n",
    "print(result.summary())\n",
    " \n",
    "y_pred = log_reg.predict(test_x)\n",
    "# print(y_pred)\n",
    "# print(list(test_y))\n",
    " \n",
    "print('정확도 :', metrics.accuracy_score(test_y, y_pred))\n",
    "\n",
    "plt.title('Logistic - Robust')\n",
    "cm = pd.DataFrame(confusion_matrix(test_y, y_pred))\n",
    "sns.heatmap(cm, annot=True, cmap = 'Blues', fmt = 'd')\n",
    "plt.ylabel('True Label')\n",
    "plt.xlabel('Predicted label')"
   ]
  },
  {
   "cell_type": "markdown",
   "id": "sticky-ceramic",
   "metadata": {},
   "source": [
    "### 1-2. MinMax"
   ]
  },
  {
   "cell_type": "code",
   "execution_count": 48,
   "id": "exciting-stylus",
   "metadata": {},
   "outputs": [
    {
     "name": "stdout",
     "output_type": "stream",
     "text": [
      "                            OLS Regression Results                            \n",
      "==============================================================================\n",
      "Dep. Variable:                  fr_yn   R-squared:                       0.093\n",
      "Model:                            OLS   Adj. R-squared:                  0.092\n",
      "Method:                 Least Squares   F-statistic:                     88.49\n",
      "Date:                Mon, 05 Jul 2021   Prob (F-statistic):          3.76e-123\n",
      "Time:                        18:39:24   Log-Likelihood:                -4079.9\n",
      "No. Observations:                6028   AIC:                             8176.\n",
      "Df Residuals:                    6020   BIC:                             8229.\n",
      "Df Model:                           7                                         \n",
      "Covariance Type:            nonrobust                                         \n",
      "========================================================================================\n",
      "                           coef    std err          t      P>|t|      [0.025      0.975]\n",
      "----------------------------------------------------------------------------------------\n",
      "Intercept                0.4412      0.018     24.184      0.000       0.405       0.477\n",
      "ttl_grnd_flr             0.8590      0.168      5.126      0.000       0.530       1.187\n",
      "ttl_dwn_flr              0.5173      0.187      2.763      0.006       0.150       0.884\n",
      "bldng_ar_prc             0.1795      0.083      2.154      0.031       0.016       0.343\n",
      "fr_wthr_fclt_dstnc      -0.7196      0.038    -18.957      0.000      -0.794      -0.645\n",
      "cctv_in_100m             0.3828      0.108      3.528      0.000       0.170       0.595\n",
      "sft_emrgnc_bll_dstnc     0.2134      0.028      7.612      0.000       0.158       0.268\n",
      "ahsm_dstnc               0.1625      0.033      4.990      0.000       0.099       0.226\n",
      "==============================================================================\n",
      "Omnibus:                    24431.330   Durbin-Watson:                   0.174\n",
      "Prob(Omnibus):                  0.000   Jarque-Bera (JB):              797.935\n",
      "Skew:                          -0.064   Prob(JB):                    5.38e-174\n",
      "Kurtosis:                       1.222   Cond. No.                         40.1\n",
      "==============================================================================\n",
      "\n",
      "Notes:\n",
      "[1] Standard Errors assume that the covariance matrix of the errors is correctly specified.\n"
     ]
    }
   ],
   "source": [
    "res = smf.ols(formula = 'fr_yn ~ ttl_grnd_flr + ttl_dwn_flr + bldng_ar_prc + fr_wthr_fclt_dstnc + cctv_in_100m + sft_emrgnc_bll_dstnc + ahsm_dstnc', data = fire_minmax).fit()\n",
    "print(res.summary())"
   ]
  },
  {
   "cell_type": "code",
   "execution_count": 49,
   "id": "attached-musician",
   "metadata": {},
   "outputs": [
    {
     "data": {
      "text/html": [
       "<div>\n",
       "<style scoped>\n",
       "    .dataframe tbody tr th:only-of-type {\n",
       "        vertical-align: middle;\n",
       "    }\n",
       "\n",
       "    .dataframe tbody tr th {\n",
       "        vertical-align: top;\n",
       "    }\n",
       "\n",
       "    .dataframe thead th {\n",
       "        text-align: right;\n",
       "    }\n",
       "</style>\n",
       "<table border=\"1\" class=\"dataframe\">\n",
       "  <thead>\n",
       "    <tr style=\"text-align: right;\">\n",
       "      <th></th>\n",
       "      <th>fr_yn</th>\n",
       "      <th>ttl_grnd_flr</th>\n",
       "      <th>ttl_dwn_flr</th>\n",
       "      <th>bldng_ar_prc</th>\n",
       "      <th>fr_wthr_fclt_dstnc</th>\n",
       "      <th>cctv_in_100m</th>\n",
       "      <th>sft_emrgnc_bll_dstnc</th>\n",
       "      <th>ahsm_dstnc</th>\n",
       "    </tr>\n",
       "  </thead>\n",
       "  <tbody>\n",
       "    <tr>\n",
       "      <th>0</th>\n",
       "      <td>0</td>\n",
       "      <td>0.000000</td>\n",
       "      <td>0.00</td>\n",
       "      <td>0.000717</td>\n",
       "      <td>0.031710</td>\n",
       "      <td>0.000000</td>\n",
       "      <td>0.033806</td>\n",
       "      <td>0.083997</td>\n",
       "    </tr>\n",
       "    <tr>\n",
       "      <th>1</th>\n",
       "      <td>0</td>\n",
       "      <td>0.000000</td>\n",
       "      <td>0.00</td>\n",
       "      <td>0.188550</td>\n",
       "      <td>0.009147</td>\n",
       "      <td>0.000000</td>\n",
       "      <td>0.013987</td>\n",
       "      <td>0.471998</td>\n",
       "    </tr>\n",
       "    <tr>\n",
       "      <th>2</th>\n",
       "      <td>0</td>\n",
       "      <td>0.000000</td>\n",
       "      <td>0.00</td>\n",
       "      <td>0.125456</td>\n",
       "      <td>0.005717</td>\n",
       "      <td>0.000000</td>\n",
       "      <td>0.543711</td>\n",
       "      <td>0.342604</td>\n",
       "    </tr>\n",
       "    <tr>\n",
       "      <th>3</th>\n",
       "      <td>0</td>\n",
       "      <td>0.000000</td>\n",
       "      <td>0.00</td>\n",
       "      <td>0.136338</td>\n",
       "      <td>0.087202</td>\n",
       "      <td>0.000000</td>\n",
       "      <td>0.153431</td>\n",
       "      <td>0.057640</td>\n",
       "    </tr>\n",
       "    <tr>\n",
       "      <th>4</th>\n",
       "      <td>0</td>\n",
       "      <td>0.000000</td>\n",
       "      <td>0.00</td>\n",
       "      <td>0.021955</td>\n",
       "      <td>0.201997</td>\n",
       "      <td>0.000000</td>\n",
       "      <td>0.802184</td>\n",
       "      <td>0.005034</td>\n",
       "    </tr>\n",
       "    <tr>\n",
       "      <th>...</th>\n",
       "      <td>...</td>\n",
       "      <td>...</td>\n",
       "      <td>...</td>\n",
       "      <td>...</td>\n",
       "      <td>...</td>\n",
       "      <td>...</td>\n",
       "      <td>...</td>\n",
       "      <td>...</td>\n",
       "    </tr>\n",
       "    <tr>\n",
       "      <th>6023</th>\n",
       "      <td>1</td>\n",
       "      <td>0.021845</td>\n",
       "      <td>0.05</td>\n",
       "      <td>0.172344</td>\n",
       "      <td>0.000229</td>\n",
       "      <td>0.083333</td>\n",
       "      <td>0.002540</td>\n",
       "      <td>0.392909</td>\n",
       "    </tr>\n",
       "    <tr>\n",
       "      <th>6024</th>\n",
       "      <td>1</td>\n",
       "      <td>0.000000</td>\n",
       "      <td>0.00</td>\n",
       "      <td>0.042984</td>\n",
       "      <td>0.013873</td>\n",
       "      <td>0.041667</td>\n",
       "      <td>0.028795</td>\n",
       "      <td>0.425181</td>\n",
       "    </tr>\n",
       "    <tr>\n",
       "      <th>6025</th>\n",
       "      <td>1</td>\n",
       "      <td>0.000000</td>\n",
       "      <td>0.00</td>\n",
       "      <td>0.062341</td>\n",
       "      <td>0.042762</td>\n",
       "      <td>0.000000</td>\n",
       "      <td>0.069204</td>\n",
       "      <td>0.260046</td>\n",
       "    </tr>\n",
       "    <tr>\n",
       "      <th>6026</th>\n",
       "      <td>1</td>\n",
       "      <td>0.000000</td>\n",
       "      <td>0.00</td>\n",
       "      <td>0.073577</td>\n",
       "      <td>0.011662</td>\n",
       "      <td>0.000000</td>\n",
       "      <td>0.006857</td>\n",
       "      <td>0.090829</td>\n",
       "    </tr>\n",
       "    <tr>\n",
       "      <th>6027</th>\n",
       "      <td>1</td>\n",
       "      <td>0.014563</td>\n",
       "      <td>0.00</td>\n",
       "      <td>0.208669</td>\n",
       "      <td>0.010138</td>\n",
       "      <td>0.041667</td>\n",
       "      <td>0.000830</td>\n",
       "      <td>0.350803</td>\n",
       "    </tr>\n",
       "  </tbody>\n",
       "</table>\n",
       "<p>6028 rows × 8 columns</p>\n",
       "</div>"
      ],
      "text/plain": [
       "      fr_yn  ttl_grnd_flr  ttl_dwn_flr  bldng_ar_prc  fr_wthr_fclt_dstnc  \\\n",
       "0         0      0.000000         0.00      0.000717            0.031710   \n",
       "1         0      0.000000         0.00      0.188550            0.009147   \n",
       "2         0      0.000000         0.00      0.125456            0.005717   \n",
       "3         0      0.000000         0.00      0.136338            0.087202   \n",
       "4         0      0.000000         0.00      0.021955            0.201997   \n",
       "...     ...           ...          ...           ...                 ...   \n",
       "6023      1      0.021845         0.05      0.172344            0.000229   \n",
       "6024      1      0.000000         0.00      0.042984            0.013873   \n",
       "6025      1      0.000000         0.00      0.062341            0.042762   \n",
       "6026      1      0.000000         0.00      0.073577            0.011662   \n",
       "6027      1      0.014563         0.00      0.208669            0.010138   \n",
       "\n",
       "      cctv_in_100m  sft_emrgnc_bll_dstnc  ahsm_dstnc  \n",
       "0         0.000000              0.033806    0.083997  \n",
       "1         0.000000              0.013987    0.471998  \n",
       "2         0.000000              0.543711    0.342604  \n",
       "3         0.000000              0.153431    0.057640  \n",
       "4         0.000000              0.802184    0.005034  \n",
       "...            ...                   ...         ...  \n",
       "6023      0.083333              0.002540    0.392909  \n",
       "6024      0.041667              0.028795    0.425181  \n",
       "6025      0.000000              0.069204    0.260046  \n",
       "6026      0.000000              0.006857    0.090829  \n",
       "6027      0.041667              0.000830    0.350803  \n",
       "\n",
       "[6028 rows x 8 columns]"
      ]
     },
     "execution_count": 49,
     "metadata": {},
     "output_type": "execute_result"
    }
   ],
   "source": [
    "fire_minmax_selected = fire_minmax.iloc[:, [0, 5, 6, 9, 10, 14, 16, 17]]\n",
    "fire_minmax_selected"
   ]
  },
  {
   "cell_type": "code",
   "execution_count": 50,
   "id": "waiting-ridge",
   "metadata": {},
   "outputs": [],
   "source": [
    "fire_minmax_features = fire_minmax_selected.iloc[:, 1:]\n",
    "fire_minmax_labels = fire_minmax_selected.iloc[:, 0]"
   ]
  },
  {
   "cell_type": "code",
   "execution_count": 51,
   "id": "settled-stationery",
   "metadata": {},
   "outputs": [
    {
     "name": "stdout",
     "output_type": "stream",
     "text": [
      "4822 1206 4822 1206\n"
     ]
    }
   ],
   "source": [
    "train_x, test_x, train_y, test_y = train_test_split(fire_minmax_features, fire_minmax_labels, test_size = 0.2, \n",
    "                                                    random_state = 100, stratify = fire_minmax_labels)\n",
    "print(len(train_x), len(test_x), len(train_y), len(test_y))"
   ]
  },
  {
   "cell_type": "code",
   "execution_count": 52,
   "id": "polished-gazette",
   "metadata": {},
   "outputs": [
    {
     "name": "stdout",
     "output_type": "stream",
     "text": [
      "                            OLS Regression Results                            \n",
      "==============================================================================\n",
      "Dep. Variable:                  fr_yn   R-squared:                       0.093\n",
      "Model:                            OLS   Adj. R-squared:                  0.092\n",
      "Method:                 Least Squares   F-statistic:                     88.49\n",
      "Date:                Mon, 05 Jul 2021   Prob (F-statistic):          3.76e-123\n",
      "Time:                        18:39:25   Log-Likelihood:                -4079.9\n",
      "No. Observations:                6028   AIC:                             8176.\n",
      "Df Residuals:                    6020   BIC:                             8229.\n",
      "Df Model:                           7                                         \n",
      "Covariance Type:            nonrobust                                         \n",
      "========================================================================================\n",
      "                           coef    std err          t      P>|t|      [0.025      0.975]\n",
      "----------------------------------------------------------------------------------------\n",
      "const                    0.4412      0.018     24.184      0.000       0.405       0.477\n",
      "ttl_grnd_flr             0.8590      0.168      5.126      0.000       0.530       1.187\n",
      "ttl_dwn_flr              0.5173      0.187      2.763      0.006       0.150       0.884\n",
      "bldng_ar_prc             0.1795      0.083      2.154      0.031       0.016       0.343\n",
      "fr_wthr_fclt_dstnc      -0.7196      0.038    -18.957      0.000      -0.794      -0.645\n",
      "cctv_in_100m             0.3828      0.108      3.528      0.000       0.170       0.595\n",
      "sft_emrgnc_bll_dstnc     0.2134      0.028      7.612      0.000       0.158       0.268\n",
      "ahsm_dstnc               0.1625      0.033      4.990      0.000       0.099       0.226\n",
      "==============================================================================\n",
      "Omnibus:                    24431.330   Durbin-Watson:                   0.174\n",
      "Prob(Omnibus):                  0.000   Jarque-Bera (JB):              797.935\n",
      "Skew:                          -0.064   Prob(JB):                    5.38e-174\n",
      "Kurtosis:                       1.222   Cond. No.                         40.1\n",
      "==============================================================================\n",
      "\n",
      "Notes:\n",
      "[1] Standard Errors assume that the covariance matrix of the errors is correctly specified.\n",
      "정확도 : 0.5953565505804311\n"
     ]
    },
    {
     "data": {
      "text/plain": [
       "Text(0.5, 15.0, 'Predicted label')"
      ]
     },
     "execution_count": 52,
     "metadata": {},
     "output_type": "execute_result"
    },
    {
     "data": {
      "image/png": "[encoded data removed]",
      "text/plain": [
       "<Figure size 432x288 with 2 Axes>"
      ]
     },
     "metadata": {
      "needs_background": "light"
     },
     "output_type": "display_data"
    }
   ],
   "source": [
    "log_reg = LogisticRegression()\n",
    "log_reg.fit(train_x, train_y)\n",
    " \n",
    "x2 = sm.add_constant(fire_minmax_features)\n",
    "model = sm.OLS(fire_minmax_labels, x2)\n",
    "result = model.fit()\n",
    "print(result.summary())\n",
    " \n",
    "y_pred = log_reg.predict(test_x)\n",
    "# print(y_pred)\n",
    "# print(list(test_y))\n",
    " \n",
    "print('정확도 :', metrics.accuracy_score(test_y, y_pred))\n",
    "\n",
    "plt.title('Logistic - MinMax')\n",
    "cm = pd.DataFrame(confusion_matrix(test_y, y_pred))\n",
    "sns.heatmap(cm, annot=True, cmap = 'Blues', fmt = 'd')\n",
    "plt.ylabel('True Label')\n",
    "plt.xlabel('Predicted label')"
   ]
  },
  {
   "cell_type": "markdown",
   "id": "mobile-essex",
   "metadata": {},
   "source": [
    "### 1-3. Standard"
   ]
  },
  {
   "cell_type": "code",
   "execution_count": 53,
   "id": "humanitarian-missouri",
   "metadata": {},
   "outputs": [
    {
     "name": "stdout",
     "output_type": "stream",
     "text": [
      "                            OLS Regression Results                            \n",
      "==============================================================================\n",
      "Dep. Variable:                  fr_yn   R-squared:                       0.093\n",
      "Model:                            OLS   Adj. R-squared:                  0.092\n",
      "Method:                 Least Squares   F-statistic:                     88.49\n",
      "Date:                Mon, 05 Jul 2021   Prob (F-statistic):          3.76e-123\n",
      "Time:                        18:39:28   Log-Likelihood:                -4079.9\n",
      "No. Observations:                6028   AIC:                             8176.\n",
      "Df Residuals:                    6020   BIC:                             8229.\n",
      "Df Model:                           7                                         \n",
      "Covariance Type:            nonrobust                                         \n",
      "========================================================================================\n",
      "                           coef    std err          t      P>|t|      [0.025      0.975]\n",
      "----------------------------------------------------------------------------------------\n",
      "Intercept                0.5000      0.006     81.483      0.000       0.488       0.512\n",
      "ttl_grnd_flr             0.0434      0.008      5.126      0.000       0.027       0.060\n",
      "ttl_dwn_flr              0.0232      0.008      2.763      0.006       0.007       0.040\n",
      "bldng_ar_prc             0.0144      0.007      2.154      0.031       0.001       0.028\n",
      "fr_wthr_fclt_dstnc      -0.1219      0.006    -18.957      0.000      -0.135      -0.109\n",
      "cctv_in_100m             0.0219      0.006      3.528      0.000       0.010       0.034\n",
      "sft_emrgnc_bll_dstnc     0.0533      0.007      7.612      0.000       0.040       0.067\n",
      "ahsm_dstnc               0.0338      0.007      4.990      0.000       0.021       0.047\n",
      "==============================================================================\n",
      "Omnibus:                    24431.330   Durbin-Watson:                   0.174\n",
      "Prob(Omnibus):                  0.000   Jarque-Bera (JB):              797.935\n",
      "Skew:                          -0.064   Prob(JB):                    5.38e-174\n",
      "Kurtosis:                       1.222   Cond. No.                         2.50\n",
      "==============================================================================\n",
      "\n",
      "Notes:\n",
      "[1] Standard Errors assume that the covariance matrix of the errors is correctly specified.\n"
     ]
    }
   ],
   "source": [
    "res = smf.ols(formula = 'fr_yn ~ ttl_grnd_flr + ttl_dwn_flr + bldng_ar_prc + fr_wthr_fclt_dstnc + cctv_in_100m + sft_emrgnc_bll_dstnc + ahsm_dstnc', data = fire_standard).fit()\n",
    "print(res.summary())"
   ]
  },
  {
   "cell_type": "code",
   "execution_count": 54,
   "id": "first-light",
   "metadata": {},
   "outputs": [
    {
     "data": {
      "text/html": [
       "<div>\n",
       "<style scoped>\n",
       "    .dataframe tbody tr th:only-of-type {\n",
       "        vertical-align: middle;\n",
       "    }\n",
       "\n",
       "    .dataframe tbody tr th {\n",
       "        vertical-align: top;\n",
       "    }\n",
       "\n",
       "    .dataframe thead th {\n",
       "        text-align: right;\n",
       "    }\n",
       "</style>\n",
       "<table border=\"1\" class=\"dataframe\">\n",
       "  <thead>\n",
       "    <tr style=\"text-align: right;\">\n",
       "      <th></th>\n",
       "      <th>fr_yn</th>\n",
       "      <th>ttl_grnd_flr</th>\n",
       "      <th>ttl_dwn_flr</th>\n",
       "      <th>bldng_ar_prc</th>\n",
       "      <th>fr_wthr_fclt_dstnc</th>\n",
       "      <th>cctv_in_100m</th>\n",
       "      <th>sft_emrgnc_bll_dstnc</th>\n",
       "      <th>ahsm_dstnc</th>\n",
       "    </tr>\n",
       "  </thead>\n",
       "  <tbody>\n",
       "    <tr>\n",
       "      <th>0</th>\n",
       "      <td>0</td>\n",
       "      <td>-0.181851</td>\n",
       "      <td>-0.196625</td>\n",
       "      <td>-1.399407</td>\n",
       "      <td>-0.411257</td>\n",
       "      <td>-0.374976</td>\n",
       "      <td>-0.933643</td>\n",
       "      <td>-0.593832</td>\n",
       "    </tr>\n",
       "    <tr>\n",
       "      <th>1</th>\n",
       "      <td>0</td>\n",
       "      <td>-0.181851</td>\n",
       "      <td>-0.196625</td>\n",
       "      <td>0.934401</td>\n",
       "      <td>-0.544428</td>\n",
       "      <td>-0.374976</td>\n",
       "      <td>-1.012981</td>\n",
       "      <td>1.271633</td>\n",
       "    </tr>\n",
       "    <tr>\n",
       "      <th>2</th>\n",
       "      <td>0</td>\n",
       "      <td>-0.181851</td>\n",
       "      <td>-0.196625</td>\n",
       "      <td>0.150456</td>\n",
       "      <td>-0.564674</td>\n",
       "      <td>-0.374976</td>\n",
       "      <td>1.107595</td>\n",
       "      <td>0.649523</td>\n",
       "    </tr>\n",
       "    <tr>\n",
       "      <th>3</th>\n",
       "      <td>0</td>\n",
       "      <td>-0.181851</td>\n",
       "      <td>-0.196625</td>\n",
       "      <td>0.285665</td>\n",
       "      <td>-0.083726</td>\n",
       "      <td>-0.374976</td>\n",
       "      <td>-0.454762</td>\n",
       "      <td>-0.720553</td>\n",
       "    </tr>\n",
       "    <tr>\n",
       "      <th>4</th>\n",
       "      <td>0</td>\n",
       "      <td>-0.181851</td>\n",
       "      <td>-0.196625</td>\n",
       "      <td>-1.135526</td>\n",
       "      <td>0.593829</td>\n",
       "      <td>-0.374976</td>\n",
       "      <td>2.142310</td>\n",
       "      <td>-0.973477</td>\n",
       "    </tr>\n",
       "    <tr>\n",
       "      <th>...</th>\n",
       "      <td>...</td>\n",
       "      <td>...</td>\n",
       "      <td>...</td>\n",
       "      <td>...</td>\n",
       "      <td>...</td>\n",
       "      <td>...</td>\n",
       "      <td>...</td>\n",
       "      <td>...</td>\n",
       "    </tr>\n",
       "    <tr>\n",
       "      <th>6023</th>\n",
       "      <td>1</td>\n",
       "      <td>0.250422</td>\n",
       "      <td>0.916292</td>\n",
       "      <td>0.733039</td>\n",
       "      <td>-0.597067</td>\n",
       "      <td>1.078627</td>\n",
       "      <td>-1.058808</td>\n",
       "      <td>0.891382</td>\n",
       "    </tr>\n",
       "    <tr>\n",
       "      <th>6024</th>\n",
       "      <td>1</td>\n",
       "      <td>-0.181851</td>\n",
       "      <td>-0.196625</td>\n",
       "      <td>-0.874242</td>\n",
       "      <td>-0.516534</td>\n",
       "      <td>0.351826</td>\n",
       "      <td>-0.953702</td>\n",
       "      <td>1.046542</td>\n",
       "    </tr>\n",
       "    <tr>\n",
       "      <th>6025</th>\n",
       "      <td>1</td>\n",
       "      <td>-0.181851</td>\n",
       "      <td>-0.196625</td>\n",
       "      <td>-0.633739</td>\n",
       "      <td>-0.346021</td>\n",
       "      <td>-0.374976</td>\n",
       "      <td>-0.791937</td>\n",
       "      <td>0.252590</td>\n",
       "    </tr>\n",
       "    <tr>\n",
       "      <th>6026</th>\n",
       "      <td>1</td>\n",
       "      <td>-0.181851</td>\n",
       "      <td>-0.196625</td>\n",
       "      <td>-0.494133</td>\n",
       "      <td>-0.529581</td>\n",
       "      <td>-0.374976</td>\n",
       "      <td>-1.041525</td>\n",
       "      <td>-0.560985</td>\n",
       "    </tr>\n",
       "    <tr>\n",
       "      <th>6027</th>\n",
       "      <td>1</td>\n",
       "      <td>0.106331</td>\n",
       "      <td>-0.196625</td>\n",
       "      <td>1.184368</td>\n",
       "      <td>-0.538580</td>\n",
       "      <td>0.351826</td>\n",
       "      <td>-1.065651</td>\n",
       "      <td>0.688940</td>\n",
       "    </tr>\n",
       "  </tbody>\n",
       "</table>\n",
       "<p>6028 rows × 8 columns</p>\n",
       "</div>"
      ],
      "text/plain": [
       "      fr_yn  ttl_grnd_flr  ttl_dwn_flr  bldng_ar_prc  fr_wthr_fclt_dstnc  \\\n",
       "0         0     -0.181851    -0.196625     -1.399407           -0.411257   \n",
       "1         0     -0.181851    -0.196625      0.934401           -0.544428   \n",
       "2         0     -0.181851    -0.196625      0.150456           -0.564674   \n",
       "3         0     -0.181851    -0.196625      0.285665           -0.083726   \n",
       "4         0     -0.181851    -0.196625     -1.135526            0.593829   \n",
       "...     ...           ...          ...           ...                 ...   \n",
       "6023      1      0.250422     0.916292      0.733039           -0.597067   \n",
       "6024      1     -0.181851    -0.196625     -0.874242           -0.516534   \n",
       "6025      1     -0.181851    -0.196625     -0.633739           -0.346021   \n",
       "6026      1     -0.181851    -0.196625     -0.494133           -0.529581   \n",
       "6027      1      0.106331    -0.196625      1.184368           -0.538580   \n",
       "\n",
       "      cctv_in_100m  sft_emrgnc_bll_dstnc  ahsm_dstnc  \n",
       "0        -0.374976             -0.933643   -0.593832  \n",
       "1        -0.374976             -1.012981    1.271633  \n",
       "2        -0.374976              1.107595    0.649523  \n",
       "3        -0.374976             -0.454762   -0.720553  \n",
       "4        -0.374976              2.142310   -0.973477  \n",
       "...            ...                   ...         ...  \n",
       "6023      1.078627             -1.058808    0.891382  \n",
       "6024      0.351826             -0.953702    1.046542  \n",
       "6025     -0.374976             -0.791937    0.252590  \n",
       "6026     -0.374976             -1.041525   -0.560985  \n",
       "6027      0.351826             -1.065651    0.688940  \n",
       "\n",
       "[6028 rows x 8 columns]"
      ]
     },
     "execution_count": 54,
     "metadata": {},
     "output_type": "execute_result"
    }
   ],
   "source": [
    "fire_standard_selected = fire_standard.iloc[:, [0, 5, 6, 9, 10, 14, 16, 17]]\n",
    "fire_standard_selected"
   ]
  },
  {
   "cell_type": "code",
   "execution_count": 55,
   "id": "spanish-gospel",
   "metadata": {},
   "outputs": [],
   "source": [
    "fire_standard_features = fire_standard_selected.iloc[:, 1:]\n",
    "fire_standard_labels = fire_standard_selected.iloc[:, 0]"
   ]
  },
  {
   "cell_type": "code",
   "execution_count": 56,
   "id": "qualified-announcement",
   "metadata": {},
   "outputs": [
    {
     "name": "stdout",
     "output_type": "stream",
     "text": [
      "4822 1206 4822 1206\n"
     ]
    }
   ],
   "source": [
    "train_x, test_x, train_y, test_y = train_test_split(fire_standard_features, fire_standard_labels, test_size = 0.2, \n",
    "                                                    random_state = 100, stratify = fire_standard_labels)\n",
    "print(len(train_x), len(test_x), len(train_y), len(test_y))"
   ]
  },
  {
   "cell_type": "code",
   "execution_count": 57,
   "id": "computational-holmes",
   "metadata": {},
   "outputs": [
    {
     "name": "stdout",
     "output_type": "stream",
     "text": [
      "                            OLS Regression Results                            \n",
      "==============================================================================\n",
      "Dep. Variable:                  fr_yn   R-squared:                       0.093\n",
      "Model:                            OLS   Adj. R-squared:                  0.092\n",
      "Method:                 Least Squares   F-statistic:                     88.49\n",
      "Date:                Mon, 05 Jul 2021   Prob (F-statistic):          3.76e-123\n",
      "Time:                        18:39:40   Log-Likelihood:                -4079.9\n",
      "No. Observations:                6028   AIC:                             8176.\n",
      "Df Residuals:                    6020   BIC:                             8229.\n",
      "Df Model:                           7                                         \n",
      "Covariance Type:            nonrobust                                         \n",
      "========================================================================================\n",
      "                           coef    std err          t      P>|t|      [0.025      0.975]\n",
      "----------------------------------------------------------------------------------------\n",
      "const                    0.5000      0.006     81.483      0.000       0.488       0.512\n",
      "ttl_grnd_flr             0.0434      0.008      5.126      0.000       0.027       0.060\n",
      "ttl_dwn_flr              0.0232      0.008      2.763      0.006       0.007       0.040\n",
      "bldng_ar_prc             0.0144      0.007      2.154      0.031       0.001       0.028\n",
      "fr_wthr_fclt_dstnc      -0.1219      0.006    -18.957      0.000      -0.135      -0.109\n",
      "cctv_in_100m             0.0219      0.006      3.528      0.000       0.010       0.034\n",
      "sft_emrgnc_bll_dstnc     0.0533      0.007      7.612      0.000       0.040       0.067\n",
      "ahsm_dstnc               0.0338      0.007      4.990      0.000       0.021       0.047\n",
      "==============================================================================\n",
      "Omnibus:                    24431.330   Durbin-Watson:                   0.174\n",
      "Prob(Omnibus):                  0.000   Jarque-Bera (JB):              797.935\n",
      "Skew:                          -0.064   Prob(JB):                    5.38e-174\n",
      "Kurtosis:                       1.222   Cond. No.                         2.50\n",
      "==============================================================================\n",
      "\n",
      "Notes:\n",
      "[1] Standard Errors assume that the covariance matrix of the errors is correctly specified.\n",
      "정확도 : 0.5961857379767828\n"
     ]
    },
    {
     "data": {
      "text/plain": [
       "Text(0.5, 15.0, 'Predicted label')"
      ]
     },
     "execution_count": 57,
     "metadata": {},
     "output_type": "execute_result"
    },
    {
     "data": {
      "image/png": "[encoded data removed]",
      "text/plain": [
       "<Figure size 432x288 with 2 Axes>"
      ]
     },
     "metadata": {
      "needs_background": "light"
     },
     "output_type": "display_data"
    }
   ],
   "source": [
    "log_reg = LogisticRegression()\n",
    "log_reg.fit(train_x, train_y)\n",
    " \n",
    "x2 = sm.add_constant(fire_standard_features)\n",
    "model = sm.OLS(fire_standard_labels, x2)\n",
    "result = model.fit()\n",
    "print(result.summary())\n",
    " \n",
    "y_pred = log_reg.predict(test_x)\n",
    "# print(y_pred)\n",
    "# print(list(test_y))\n",
    " \n",
    "print('정확도 :', metrics.accuracy_score(test_y, y_pred))\n",
    "\n",
    "plt.title('Logistic - Standard')\n",
    "cm = pd.DataFrame(confusion_matrix(test_y, y_pred))\n",
    "sns.heatmap(cm, annot=True, cmap = 'Blues', fmt = 'd')\n",
    "plt.ylabel('True Label')\n",
    "plt.xlabel('Predicted label')"
   ]
  },
  {
   "cell_type": "code",
   "execution_count": 47,
   "id": "nutritional-julian",
   "metadata": {},
   "outputs": [],
   "source": [
    "# fire_robust_selected.to_csv('fire_robust_selected_1to1.csv', encoding = 'cp949')\n",
    "# fire_minmax_selected.to_csv('fire_minmax_selected_1to1.csv', encoding = 'cp949')\n",
    "# fire_standard_selected.to_csv('fire_standard_selected_1to1.csv', encoding = 'cp949')"
   ]
  },
  {
   "cell_type": "code",
   "execution_count": null,
   "id": "addressed-blues",
   "metadata": {},
   "outputs": [],
   "source": []
  },
  {
   "cell_type": "code",
   "execution_count": null,
   "id": "extensive-tobago",
   "metadata": {},
   "outputs": [],
   "source": []
  },
  {
   "cell_type": "markdown",
   "id": "exact-cosmetic",
   "metadata": {},
   "source": [
    "## 2. KNN"
   ]
  },
  {
   "cell_type": "markdown",
   "id": "cloudy-dealing",
   "metadata": {},
   "source": [
    "### 2-1. Robust"
   ]
  },
  {
   "cell_type": "code",
   "execution_count": 58,
   "id": "backed-arthritis",
   "metadata": {},
   "outputs": [],
   "source": [
    "fire_features = fire_robust.iloc[:, 1:]\n",
    "fire_labels = fire_robust.iloc[:, 0]"
   ]
  },
  {
   "cell_type": "code",
   "execution_count": 59,
   "id": "initial-consequence",
   "metadata": {},
   "outputs": [
    {
     "name": "stdout",
     "output_type": "stream",
     "text": [
      "4822 1206 4822 1206\n"
     ]
    }
   ],
   "source": [
    "train_x, test_x, train_y, test_y = train_test_split(fire_features, fire_labels, test_size = 0.2, \n",
    "                                                    random_state = 100, stratify = fire_labels)\n",
    "print(len(train_x), len(test_x), len(train_y), len(test_y))"
   ]
  },
  {
   "cell_type": "code",
   "execution_count": 60,
   "id": "proper-commodity",
   "metadata": {},
   "outputs": [
    {
     "data": {
      "image/png": "[encoded data removed]",
      "text/plain": [
       "<Figure size 432x288 with 1 Axes>"
      ]
     },
     "metadata": {
      "needs_background": "light"
     },
     "output_type": "display_data"
    }
   ],
   "source": [
    "k_list = range(1,101)\n",
    "accuracies = []\n",
    "\n",
    "for k in k_list:\n",
    "    classifier = KNeighborsClassifier(n_neighbors = k)\n",
    "    classifier.fit(train_x, train_y.values.ravel())\n",
    "    accuracies.append(classifier.score(test_x, test_y))\n",
    "      \n",
    "plt.plot(k_list, accuracies)\n",
    "plt.xlabel(\"k\")\n",
    "plt.ylabel(\"Validation Accuracy\")\n",
    "plt.title(\"Fire Prediction Accuracy\")\n",
    "plt.show()"
   ]
  },
  {
   "cell_type": "code",
   "execution_count": 61,
   "id": "inside-conclusion",
   "metadata": {},
   "outputs": [
    {
     "name": "stdout",
     "output_type": "stream",
     "text": [
      "24\n",
      "0.6608623548922057\n"
     ]
    }
   ],
   "source": [
    "print(accuracies.index(max(accuracies)) + 1)\n",
    "print(max(accuracies))"
   ]
  },
  {
   "cell_type": "code",
   "execution_count": 62,
   "id": "australian-focus",
   "metadata": {},
   "outputs": [
    {
     "data": {
      "text/plain": [
       "Text(0.5, 15.0, 'Predicted label')"
      ]
     },
     "execution_count": 62,
     "metadata": {},
     "output_type": "execute_result"
    },
    {
     "data": {
      "image/png": "[encoded data removed]",
      "text/plain": [
       "<Figure size 432x288 with 2 Axes>"
      ]
     },
     "metadata": {
      "needs_background": "light"
     },
     "output_type": "display_data"
    }
   ],
   "source": [
    "classifier = KNeighborsClassifier(n_neighbors = accuracies.index(max(accuracies)) + 1)\n",
    "classifier.fit(train_x, train_y.values.ravel())\n",
    "\n",
    "y_pred = classifier.predict(test_x)\n",
    "\n",
    "plt.title('KNN - Robust')\n",
    "cm = pd.DataFrame(confusion_matrix(test_y, y_pred))\n",
    "sns.heatmap(cm, annot=True, cmap = 'Greens', fmt = 'd')\n",
    "plt.ylabel('True Label')\n",
    "plt.xlabel('Predicted label')"
   ]
  },
  {
   "cell_type": "markdown",
   "id": "analyzed-speaker",
   "metadata": {},
   "source": [
    "### 2-2. MinMax"
   ]
  },
  {
   "cell_type": "code",
   "execution_count": 63,
   "id": "solved-validity",
   "metadata": {},
   "outputs": [],
   "source": [
    "fire_features = fire_minmax.iloc[:, 1:]\n",
    "fire_labels = fire_minmax.iloc[:, 0]"
   ]
  },
  {
   "cell_type": "code",
   "execution_count": 64,
   "id": "royal-colorado",
   "metadata": {},
   "outputs": [
    {
     "name": "stdout",
     "output_type": "stream",
     "text": [
      "4822 1206 4822 1206\n"
     ]
    }
   ],
   "source": [
    "train_x, test_x, train_y, test_y = train_test_split(fire_features, fire_labels, test_size = 0.2, \n",
    "                                                    random_state = 100, stratify = fire_labels)\n",
    "print(len(train_x), len(test_x), len(train_y), len(test_y))"
   ]
  },
  {
   "cell_type": "code",
   "execution_count": 65,
   "id": "prime-disposal",
   "metadata": {},
   "outputs": [
    {
     "data": {
      "image/png": "[encoded data removed]",
      "text/plain": [
       "<Figure size 432x288 with 1 Axes>"
      ]
     },
     "metadata": {
      "needs_background": "light"
     },
     "output_type": "display_data"
    }
   ],
   "source": [
    "k_list = range(1,101)\n",
    "accuracies = []\n",
    "\n",
    "for k in k_list:\n",
    "    classifier = KNeighborsClassifier(n_neighbors = k)\n",
    "    classifier.fit(train_x, train_y.values.ravel())\n",
    "    accuracies.append(classifier.score(test_x, test_y))\n",
    "      \n",
    "plt.plot(k_list, accuracies)\n",
    "plt.xlabel(\"k\")\n",
    "plt.ylabel(\"Validation Accuracy\")\n",
    "plt.title(\"Fire Prediction Accuracy\")\n",
    "plt.show()"
   ]
  },
  {
   "cell_type": "code",
   "execution_count": 66,
   "id": "starting-edition",
   "metadata": {},
   "outputs": [
    {
     "name": "stdout",
     "output_type": "stream",
     "text": [
      "10\n",
      "0.6343283582089553\n"
     ]
    }
   ],
   "source": [
    "print(accuracies.index(max(accuracies)) + 1)\n",
    "print(max(accuracies))"
   ]
  },
  {
   "cell_type": "code",
   "execution_count": 67,
   "id": "regulation-placement",
   "metadata": {},
   "outputs": [
    {
     "data": {
      "text/plain": [
       "Text(0.5, 15.0, 'Predicted label')"
      ]
     },
     "execution_count": 67,
     "metadata": {},
     "output_type": "execute_result"
    },
    {
     "data": {
      "image/png": "[encoded data removed]",
      "text/plain": [
       "<Figure size 432x288 with 2 Axes>"
      ]
     },
     "metadata": {
      "needs_background": "light"
     },
     "output_type": "display_data"
    }
   ],
   "source": [
    "classifier = KNeighborsClassifier(n_neighbors = accuracies.index(max(accuracies)) + 1)\n",
    "classifier.fit(train_x, train_y.values.ravel())\n",
    "\n",
    "y_pred = classifier.predict(test_x)\n",
    "\n",
    "plt.title('KNN - MinMax')\n",
    "cm = pd.DataFrame(confusion_matrix(test_y, y_pred))\n",
    "sns.heatmap(cm, annot=True, cmap = 'Greens', fmt = 'd')\n",
    "plt.ylabel('True Label')\n",
    "plt.xlabel('Predicted label')"
   ]
  },
  {
   "cell_type": "markdown",
   "id": "novel-programmer",
   "metadata": {},
   "source": [
    "### 2-3. Standard"
   ]
  },
  {
   "cell_type": "code",
   "execution_count": 68,
   "id": "informed-sensitivity",
   "metadata": {},
   "outputs": [],
   "source": [
    "fire_features = fire_standard.iloc[:, 1:]\n",
    "fire_labels = fire_standard.iloc[:, 0]"
   ]
  },
  {
   "cell_type": "code",
   "execution_count": 69,
   "id": "collaborative-mountain",
   "metadata": {},
   "outputs": [
    {
     "name": "stdout",
     "output_type": "stream",
     "text": [
      "4822 1206 4822 1206\n"
     ]
    }
   ],
   "source": [
    "train_x, test_x, train_y, test_y = train_test_split(fire_features, fire_labels, test_size = 0.2, \n",
    "                                                    random_state = 100, stratify = fire_labels)\n",
    "print(len(train_x), len(test_x), len(train_y), len(test_y))"
   ]
  },
  {
   "cell_type": "code",
   "execution_count": 70,
   "id": "interstate-cannon",
   "metadata": {},
   "outputs": [
    {
     "data": {
      "image/png": "[encoded data removed]",
      "text/plain": [
       "<Figure size 432x288 with 1 Axes>"
      ]
     },
     "metadata": {
      "needs_background": "light"
     },
     "output_type": "display_data"
    }
   ],
   "source": [
    "k_list = range(1,101)\n",
    "accuracies = []\n",
    "\n",
    "for k in k_list:\n",
    "    classifier = KNeighborsClassifier(n_neighbors = k)\n",
    "    classifier.fit(train_x, train_y.values.ravel())\n",
    "    accuracies.append(classifier.score(test_x, test_y))\n",
    "      \n",
    "plt.plot(k_list, accuracies)\n",
    "plt.xlabel(\"k\")\n",
    "plt.ylabel(\"Validation Accuracy\")\n",
    "plt.title(\"Fire Prediction Accuracy\")\n",
    "plt.show()"
   ]
  },
  {
   "cell_type": "code",
   "execution_count": 71,
   "id": "concerned-router",
   "metadata": {},
   "outputs": [
    {
     "name": "stdout",
     "output_type": "stream",
     "text": [
      "13\n",
      "0.6301824212271974\n"
     ]
    }
   ],
   "source": [
    "print(accuracies.index(max(accuracies)) + 1)\n",
    "print(max(accuracies))"
   ]
  },
  {
   "cell_type": "code",
   "execution_count": 72,
   "id": "intensive-behavior",
   "metadata": {},
   "outputs": [
    {
     "data": {
      "text/plain": [
       "Text(0.5, 15.0, 'Predicted label')"
      ]
     },
     "execution_count": 72,
     "metadata": {},
     "output_type": "execute_result"
    },
    {
     "data": {
      "image/png": "[encoded data removed]",
      "text/plain": [
       "<Figure size 432x288 with 2 Axes>"
      ]
     },
     "metadata": {
      "needs_background": "light"
     },
     "output_type": "display_data"
    }
   ],
   "source": [
    "classifier = KNeighborsClassifier(n_neighbors = accuracies.index(max(accuracies)) + 1)\n",
    "classifier.fit(train_x, train_y.values.ravel())\n",
    "\n",
    "y_pred = classifier.predict(test_x)\n",
    "\n",
    "plt.title('KNN - Standard')\n",
    "cm = pd.DataFrame(confusion_matrix(test_y, y_pred))\n",
    "sns.heatmap(cm, annot=True, cmap = 'Greens', fmt = 'd')\n",
    "plt.ylabel('True Label')\n",
    "plt.xlabel('Predicted label')"
   ]
  },
  {
   "cell_type": "code",
   "execution_count": null,
   "id": "revolutionary-qatar",
   "metadata": {},
   "outputs": [],
   "source": []
  },
  {
   "cell_type": "code",
   "execution_count": null,
   "id": "moving-going",
   "metadata": {},
   "outputs": [],
   "source": []
  },
  {
   "cell_type": "markdown",
   "id": "muslim-leone",
   "metadata": {},
   "source": [
    "## 3. Random Forest"
   ]
  },
  {
   "cell_type": "markdown",
   "id": "presidential-recipe",
   "metadata": {},
   "source": [
    "### 3-1. Robust"
   ]
  },
  {
   "cell_type": "code",
   "execution_count": 73,
   "id": "boring-apartment",
   "metadata": {},
   "outputs": [
    {
     "name": "stdout",
     "output_type": "stream",
     "text": [
      "4822 1206 4822 1206\n"
     ]
    }
   ],
   "source": [
    "fire_features = fire_robust.iloc[:, 1:]\n",
    "fire_labels = fire_robust.iloc[:, 0]\n",
    "\n",
    "train_x, test_x, train_y, test_y = train_test_split(fire_features, fire_labels, test_size = 0.2, \n",
    "                                                    random_state = 100, stratify = fire_labels)\n",
    "print(len(train_x), len(test_x), len(train_y), len(test_y))"
   ]
  },
  {
   "cell_type": "code",
   "execution_count": 74,
   "id": "laden-vehicle",
   "metadata": {},
   "outputs": [
    {
     "name": "stderr",
     "output_type": "stream",
     "text": [
      "100%|████████████████████████████████████████████████████████████████████████████████| 300/300 [07:41<00:00,  1.54s/it]"
     ]
    },
    {
     "name": "stdout",
     "output_type": "stream",
     "text": [
      "Best accuracy score: 0.684\n",
      "Best number of trees : 234\n"
     ]
    },
    {
     "name": "stderr",
     "output_type": "stream",
     "text": [
      "\n"
     ]
    }
   ],
   "source": [
    "k = range(1, 301)\n",
    "max_acc = 0\n",
    "max_k = 0\n",
    "\n",
    "for i in tqdm(k):\n",
    "    rf = RandomForestClassifier(n_estimators = i, random_state = 100)\n",
    "    rf.fit(train_x, train_y.values.ravel())\n",
    "\n",
    "    predicted = rf.predict(test_x)\n",
    "    accuracy = accuracy_score(test_y, predicted)\n",
    "    \n",
    "    if accuracy > max_acc:\n",
    "        max_acc = accuracy\n",
    "        max_k = i\n",
    "        \n",
    "print(f'Best accuracy score: {max_acc:.3}')\n",
    "print(f'Best number of trees : {max_k}')"
   ]
  },
  {
   "cell_type": "code",
   "execution_count": 75,
   "id": "strategic-supervisor",
   "metadata": {},
   "outputs": [
    {
     "data": {
      "text/plain": [
       "Text(0.5, 15.0, 'Predicted label')"
      ]
     },
     "execution_count": 75,
     "metadata": {},
     "output_type": "execute_result"
    },
    {
     "data": {
      "image/png": "[encoded data removed]",
      "text/plain": [
       "<Figure size 432x288 with 2 Axes>"
      ]
     },
     "metadata": {
      "needs_background": "light"
     },
     "output_type": "display_data"
    }
   ],
   "source": [
    "rf = RandomForestClassifier(n_estimators = max_k, random_state = 100)\n",
    "rf.fit(train_x, train_y.values.ravel())\n",
    "\n",
    "predicted = rf.predict(test_x)\n",
    "accuracy = accuracy_score(test_y, predicted)\n",
    "\n",
    "plt.title('Random Forest - Robust')\n",
    "cm = pd.DataFrame(confusion_matrix(test_y, predicted))\n",
    "sns.heatmap(cm, annot=True, cmap = 'Reds', fmt = 'd')\n",
    "plt.ylabel('True Label')\n",
    "plt.xlabel('Predicted label')"
   ]
  },
  {
   "cell_type": "markdown",
   "id": "outside-minneapolis",
   "metadata": {},
   "source": [
    "### 3-2. MinMax"
   ]
  },
  {
   "cell_type": "code",
   "execution_count": 76,
   "id": "parallel-contest",
   "metadata": {},
   "outputs": [
    {
     "name": "stdout",
     "output_type": "stream",
     "text": [
      "4822 1206 4822 1206\n"
     ]
    }
   ],
   "source": [
    "fire_features = fire_minmax.iloc[:, 1:]\n",
    "fire_labels = fire_minmax.iloc[:, 0]\n",
    "\n",
    "train_x, test_x, train_y, test_y = train_test_split(fire_features, fire_labels, test_size = 0.2, \n",
    "                                                    random_state = 100, stratify = fire_labels)\n",
    "print(len(train_x), len(test_x), len(train_y), len(test_y))"
   ]
  },
  {
   "cell_type": "code",
   "execution_count": 77,
   "id": "marine-syracuse",
   "metadata": {},
   "outputs": [
    {
     "name": "stderr",
     "output_type": "stream",
     "text": [
      "100%|████████████████████████████████████████████████████████████████████████████████| 300/300 [07:37<00:00,  1.53s/it]"
     ]
    },
    {
     "name": "stdout",
     "output_type": "stream",
     "text": [
      "Best accuracy score: 0.682\n",
      "Best number of trees : 220\n"
     ]
    },
    {
     "name": "stderr",
     "output_type": "stream",
     "text": [
      "\n"
     ]
    }
   ],
   "source": [
    "k = range(1, 301)\n",
    "max_acc = 0\n",
    "max_k = 0\n",
    "\n",
    "for i in tqdm(k):\n",
    "    rf = RandomForestClassifier(n_estimators = i, random_state = 100)\n",
    "    rf.fit(train_x, train_y.values.ravel())\n",
    "\n",
    "    predicted = rf.predict(test_x)\n",
    "    accuracy = accuracy_score(test_y, predicted)\n",
    "    \n",
    "    if accuracy > max_acc:\n",
    "        max_acc = accuracy\n",
    "        max_k = i\n",
    "        \n",
    "print(f'Best accuracy score: {max_acc:.3}')\n",
    "print(f'Best number of trees : {max_k}')"
   ]
  },
  {
   "cell_type": "code",
   "execution_count": 78,
   "id": "mathematical-artwork",
   "metadata": {},
   "outputs": [
    {
     "data": {
      "text/plain": [
       "Text(0.5, 15.0, 'Predicted label')"
      ]
     },
     "execution_count": 78,
     "metadata": {},
     "output_type": "execute_result"
    },
    {
     "data": {
      "image/png": "[encoded data removed]",
      "text/plain": [
       "<Figure size 432x288 with 2 Axes>"
      ]
     },
     "metadata": {
      "needs_background": "light"
     },
     "output_type": "display_data"
    }
   ],
   "source": [
    "rf = RandomForestClassifier(n_estimators = max_k, random_state = 100)\n",
    "rf.fit(train_x, train_y.values.ravel())\n",
    "\n",
    "predicted = rf.predict(test_x)\n",
    "accuracy = accuracy_score(test_y, predicted)\n",
    "\n",
    "plt.title('Random Forest - MinMax')\n",
    "cm = pd.DataFrame(confusion_matrix(test_y, predicted))\n",
    "sns.heatmap(cm, annot=True, cmap = 'Reds', fmt = 'd')\n",
    "plt.ylabel('True Label')\n",
    "plt.xlabel('Predicted label')"
   ]
  },
  {
   "cell_type": "markdown",
   "id": "affiliated-grain",
   "metadata": {},
   "source": [
    "### 3-3. Standard"
   ]
  },
  {
   "cell_type": "code",
   "execution_count": 79,
   "id": "german-maximum",
   "metadata": {},
   "outputs": [
    {
     "name": "stdout",
     "output_type": "stream",
     "text": [
      "4822 1206 4822 1206\n"
     ]
    }
   ],
   "source": [
    "fire_features = fire_standard.iloc[:, 1:]\n",
    "fire_labels = fire_standard.iloc[:, 0]\n",
    "\n",
    "train_x, test_x, train_y, test_y = train_test_split(fire_features, fire_labels, test_size = 0.2, \n",
    "                                                    random_state = 100, stratify = fire_labels)\n",
    "print(len(train_x), len(test_x), len(train_y), len(test_y))"
   ]
  },
  {
   "cell_type": "code",
   "execution_count": 80,
   "id": "distributed-junction",
   "metadata": {},
   "outputs": [
    {
     "name": "stderr",
     "output_type": "stream",
     "text": [
      "100%|████████████████████████████████████████████████████████████████████████████████| 300/300 [07:43<00:00,  1.54s/it]"
     ]
    },
    {
     "name": "stdout",
     "output_type": "stream",
     "text": [
      "Best accuracy score: 0.683\n",
      "Best number of trees : 75\n"
     ]
    },
    {
     "name": "stderr",
     "output_type": "stream",
     "text": [
      "\n"
     ]
    }
   ],
   "source": [
    "k = range(1, 301)\n",
    "max_acc = 0\n",
    "max_k = 0\n",
    "\n",
    "for i in tqdm(k):\n",
    "    rf = RandomForestClassifier(n_estimators = i, random_state = 100)\n",
    "    rf.fit(train_x, train_y.values.ravel())\n",
    "\n",
    "    predicted = rf.predict(test_x)\n",
    "    accuracy = accuracy_score(test_y, predicted)\n",
    "    \n",
    "    if accuracy > max_acc:\n",
    "        max_acc = accuracy\n",
    "        max_k = i\n",
    "        \n",
    "print(f'Best accuracy score: {max_acc:.3}')\n",
    "print(f'Best number of trees : {max_k}')"
   ]
  },
  {
   "cell_type": "code",
   "execution_count": 81,
   "id": "deadly-bedroom",
   "metadata": {},
   "outputs": [
    {
     "data": {
      "text/plain": [
       "Text(0.5, 15.0, 'Predicted label')"
      ]
     },
     "execution_count": 81,
     "metadata": {},
     "output_type": "execute_result"
    },
    {
     "data": {
      "image/png": "[encoded data removed]",
      "text/plain": [
       "<Figure size 432x288 with 2 Axes>"
      ]
     },
     "metadata": {
      "needs_background": "light"
     },
     "output_type": "display_data"
    }
   ],
   "source": [
    "rf = RandomForestClassifier(n_estimators = max_k, random_state = 100)\n",
    "rf.fit(train_x, train_y.values.ravel())\n",
    "\n",
    "predicted = rf.predict(test_x)\n",
    "accuracy = accuracy_score(test_y, predicted)\n",
    "\n",
    "plt.title('Random Forest - Standard')\n",
    "cm = pd.DataFrame(confusion_matrix(test_y, predicted))\n",
    "sns.heatmap(cm, annot=True, cmap = 'Reds', fmt = 'd')\n",
    "plt.ylabel('True Label')\n",
    "plt.xlabel('Predicted label')"
   ]
  },
  {
   "cell_type": "code",
   "execution_count": null,
   "id": "liked-anchor",
   "metadata": {},
   "outputs": [],
   "source": []
  },
  {
   "cell_type": "code",
   "execution_count": null,
   "id": "toxic-wayne",
   "metadata": {},
   "outputs": [],
   "source": []
  }
 ],
 "metadata": {
  "kernelspec": {
   "display_name": "Python 3",
   "language": "python",
   "name": "python3"
  },
  "language_info": {
   "codemirror_mode": {
    "name": "ipython",
    "version": 3
   },
   "file_extension": ".py",
   "mimetype": "text/x-python",
   "name": "python",
   "nbconvert_exporter": "python",
   "pygments_lexer": "ipython3",
   "version": "3.8.5"
  }
 },
 "nbformat": 4,
 "nbformat_minor": 5
}
